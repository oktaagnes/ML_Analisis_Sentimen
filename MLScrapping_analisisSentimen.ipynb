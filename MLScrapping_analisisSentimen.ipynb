{
  "cells": [
    {
      "cell_type": "markdown",
      "source": [
        "#**Install Library**"
      ],
      "metadata": {
        "id": "9lCSWSNo9i3q"
      }
    },
    {
      "cell_type": "code",
      "source": [
        "!pip install google_play-scraper\n",
        "!pip install sastrawi"
      ],
      "metadata": {
        "id": "c6XG4bC49sSk",
        "colab": {
          "base_uri": "https://localhost:8080/"
        },
        "outputId": "68ef830b-24a0-4b27-b751-7f7c1668d388"
      },
      "execution_count": 9,
      "outputs": [
        {
          "output_type": "stream",
          "name": "stdout",
          "text": [
            "Requirement already satisfied: google_play-scraper in /usr/local/lib/python3.11/dist-packages (1.2.7)\n",
            "Requirement already satisfied: sastrawi in /usr/local/lib/python3.11/dist-packages (1.0.1)\n"
          ]
        }
      ]
    },
    {
      "cell_type": "markdown",
      "metadata": {
        "id": "SxaJz-LL-Uti"
      },
      "source": [
        "#**Import Library**"
      ]
    },
    {
      "cell_type": "code",
      "source": [
        "from google_play_scraper import app, reviews, Sort, reviews_all\n",
        "from Sastrawi.Stemmer.StemmerFactory import StemmerFactory\n",
        "from Sastrawi.StopWordRemover.StopWordRemoverFactory import StopWordRemoverFactory\n",
        "from wordcloud import WordCloud\n",
        "import nltk\n",
        "nltk.download('punkt')\n",
        "nltk.download('stopwords')"
      ],
      "metadata": {
        "colab": {
          "base_uri": "https://localhost:8080/"
        },
        "id": "61C_lkHcIh3D",
        "outputId": "23b89921-3b22-43a3-8288-9c57fe531fce"
      },
      "execution_count": 10,
      "outputs": [
        {
          "output_type": "stream",
          "name": "stderr",
          "text": [
            "[nltk_data] Downloading package punkt to /root/nltk_data...\n",
            "[nltk_data]   Package punkt is already up-to-date!\n",
            "[nltk_data] Downloading package stopwords to /root/nltk_data...\n",
            "[nltk_data]   Package stopwords is already up-to-date!\n"
          ]
        },
        {
          "output_type": "execute_result",
          "data": {
            "text/plain": [
              "True"
            ]
          },
          "metadata": {},
          "execution_count": 10
        }
      ]
    },
    {
      "cell_type": "markdown",
      "metadata": {
        "id": "YOStOXd2-mpF"
      },
      "source": [
        "#**Menscrapping review atau komentar dari playstore shopeepay di google play store, dan mengambilnya sebanyak 10.000 data**"
      ]
    },
    {
      "cell_type": "code",
      "execution_count": 11,
      "metadata": {
        "id": "IkIukjAyrGrJ"
      },
      "outputs": [],
      "source": [
        "from google_play_scraper import app, reviews_all, Sort\n",
        "\n",
        "scrapreview = reviews(\n",
        "    'com.shopeepay.id',\n",
        "    lang='id',\n",
        "    country='id',\n",
        "    sort=Sort.MOST_RELEVANT,\n",
        "    count=10000)"
      ]
    },
    {
      "cell_type": "markdown",
      "metadata": {
        "id": "Y7zuOQOB_lcJ"
      },
      "source": [
        "#Menyimpan hasil scrapping ke dalam bentuk csv"
      ]
    },
    {
      "cell_type": "code",
      "execution_count": 12,
      "metadata": {
        "colab": {
          "base_uri": "https://localhost:8080/"
        },
        "id": "gnuwBVmhtiLj",
        "outputId": "2438306b-2910-447b-a036-8b2113f3d686"
      },
      "outputs": [
        {
          "output_type": "stream",
          "name": "stdout",
          "text": [
            "CSV file updated successfully!\n"
          ]
        }
      ],
      "source": [
        "import csv\n",
        "\n",
        "for review in scrapreview[0]:\n",
        "    if isinstance(review, dict):\n",
        "        content = review.get('content', '')\n",
        "        with open('review_shopeepay.csv', mode='a', newline='', encoding='utf-8') as file:\n",
        "            writer = csv.writer(file)\n",
        "            writer.writerow([content])\n",
        "    else:\n",
        "        print(f\"Invalid review format: {review}\")\n",
        "\n",
        "print(\"CSV file updated successfully!\")"
      ]
    }
  ],
  "metadata": {
    "colab": {
      "provenance": []
    },
    "kernelspec": {
      "display_name": "Python 3",
      "name": "python3"
    },
    "language_info": {
      "name": "python"
    }
  },
  "nbformat": 4,
  "nbformat_minor": 0
}